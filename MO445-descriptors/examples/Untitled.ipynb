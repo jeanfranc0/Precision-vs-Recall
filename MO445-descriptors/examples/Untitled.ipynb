{
 "cells": [
  {
   "cell_type": "code",
   "execution_count": 1,
   "metadata": {},
   "outputs": [],
   "source": [
    "#Libraries\n",
    "import os\n",
    "import numpy as np\n",
    "from scipy.spatial import distance\n",
    "import matplotlib.pyplot as plt"
   ]
  },
  {
   "cell_type": "code",
   "execution_count": 2,
   "metadata": {},
   "outputs": [],
   "source": [
    "#Sorting distance and only get index\n",
    "def Matrix_sort_by_index(matrix_distances,cls_shape):\n",
    "    x_ordenada = np.sort(matrix_distances)\n",
    "    x = np.argsort(matrix_distances)\n",
    "    #print(x)\n",
    "    #print(\"sale\")\n",
    "    lbl = np.zeros((len(cls_shape), len(cls_shape))).astype(int)\n",
    "    for i in range(len(lbl)):\n",
    "        for j in range(len(lbl[i])):\n",
    "            if x[i][j] < 5:\n",
    "                lbl[i][j] = 0\n",
    "            else:\n",
    "                lbl[i][j] = 1\n",
    "    #print(lbl)\n",
    "    return lbl"
   ]
  },
  {
   "cell_type": "code",
   "execution_count": 3,
   "metadata": {},
   "outputs": [],
   "source": [
    "#Matrix of distance between images; using euclidean distance\n",
    "def Matrix_of_distances(cls_shape,dataset_shape):\n",
    "    matrix_distances = np.zeros((len(cls_shape), len(cls_shape)))\n",
    "    for i in range(len(matrix_distances)):\n",
    "        for j in range(len(matrix_distances[i])):\n",
    "            matrix_distances[i][j] = distance.euclidean(dataset_shape[i], dataset_shape[j])\n",
    "    #print(matrix_distances)\n",
    "    return matrix_distances"
   ]
  },
  {
   "cell_type": "code",
   "execution_count": 4,
   "metadata": {},
   "outputs": [],
   "source": [
    "#Retrival the 'i' first images\n",
    "def fncion(value, lista):\n",
    "    ppp= []\n",
    "    contad = 0\n",
    "    rrr = []\n",
    "    c = 1\n",
    "    for s in lista:        \n",
    "        if value == s:\n",
    "            contad+=1\n",
    "        ppp.append(contad/c)\n",
    "        rrr.append(contad/5)\n",
    "        c +=1\n",
    "    #print(ppp)\n",
    "    #print('sss')\n",
    "    #print(rrr)\n",
    "    return ppp,rrr"
   ]
  },
  {
   "cell_type": "code",
   "execution_count": 5,
   "metadata": {},
   "outputs": [],
   "source": [
    "#get Matrix of Precision and Recall\n",
    "def Compute_distance(cantidad,lbl,cls_shape):\n",
    "    pr = []\n",
    "    precision = []\n",
    "    recall = []\n",
    "    p1 = []\n",
    "    r1 = []\n",
    "    contador = 0\n",
    "    matrix_precision = np.zeros((len(cls_shape), cantidad))\n",
    "    matrix_recall = np.zeros((len(cls_shape), cantidad))\n",
    "    for sublist in lbl:\n",
    "        pr.append(sublist[:cantidad])\n",
    "    lst = np.array(pr).tolist()\n",
    "    for index,valor in enumerate(cls_shape):\n",
    "        p1, r1 = fncion(valor, lst[index])        \n",
    "        for i in range(cantidad):\n",
    "            matrix_precision[index][i] = p1[i]\n",
    "            matrix_recall[index][i] = r1[i]\n",
    "            \n",
    "    media_matrix_precision = [sum([row[i] for row in matrix_precision])/10 for i in range(0,len(matrix_precision[0]))]\n",
    "    media_matrix_recall = [sum([row[i] for row in matrix_recall])/10 for i in range(0,len(matrix_recall[0]))]  \n",
    "    \n",
    "    return media_matrix_precision,media_matrix_recall"
   ]
  },
  {
   "cell_type": "code",
   "execution_count": 6,
   "metadata": {},
   "outputs": [],
   "source": [
    "#Visualization\n",
    "def Plot_Precision_x_Recall(matrix_precision_1,matrix_recall_1,matrix_precision_2,matrix_recall_2,matrix_precision_3,matrix_recall_3):\n",
    "    plt.plot(matrix_recall_1,matrix_precision_1, label='Descriptor 1 ')\n",
    "    plt.plot(matrix_recall_2,matrix_precision_2, label='Descriptor 2 ')\n",
    "    plt.plot(matrix_recall_3,matrix_precision_3, label='Descriptor 3 ')\n",
    "    plt.axis([0, 1.05, 0, 1.05])\n",
    "    plt.legend()\n",
    "    plt.xlabel('Recall')\n",
    "    plt.ylabel('Precision')\n",
    "    plt.title('Precision x Recall')\n",
    "    plt.show()"
   ]
  },
  {
   "cell_type": "code",
   "execution_count": 7,
   "metadata": {},
   "outputs": [
    {
     "data": {
      "image/png": "[encoded data removed]",
      "text/plain": [
       "<Figure size 432x288 with 1 Axes>"
      ]
     },
     "metadata": {
      "needs_background": "light"
     },
     "output_type": "display_data"
    }
   ],
   "source": [
    "cantidad = 10\n",
    "cls_shape_Fractal = [0,0,0,0,0,1,1,1,1,1]\n",
    "dataset_shape_Fractal = [[1.50,2.50], [1.50, 2.00], [2.00,2.00], [1.00,2.00], [1.50,1.50],\n",
    "                        [1.00,1.00], [1.00, 2.00], [1.00,3.00], [1.00,4.00], [1.00,5.00]]\n",
    "matrix_distances_Fractal = np.zeros((10, 10))\n",
    "#Sorting distance and only get index \n",
    "lbl_Fractal = np.zeros((10, 10)).astype(int)\n",
    "#Get Distances between images\n",
    "matrix_distances_Fractal = Matrix_of_distances(cls_shape_Fractal,dataset_shape_Fractal)\n",
    "\n",
    "#label of Matrix sorting by index\n",
    "lbl_Fractal = Matrix_sort_by_index(matrix_distances_Fractal,cls_shape_Fractal)\n",
    "\n",
    "\n",
    "#Precision and Recall\n",
    "matrix_precision_Fractal,matrix_recall_Fractal = Compute_distance(cantidad,lbl_Fractal,cls_shape_Fractal)\n",
    "\n",
    "\n",
    "#Plot_Precision_x_Recall_Descriptor_1(matrix_precision_Fractal,matrix_recall_Fractal)\n",
    "\n",
    "\n",
    "#####################################################################\n",
    "#####################################################################\n",
    "#####################################################################\n",
    "#####################################################################\n",
    "cls_shape_2 = [0,0,0,0,0,1,1,1,1,1]\n",
    "dataset_shape_2 = [[2,1], [2, 2], [2.00,3.00], [2.00,4.00], [2.00,5.00],\n",
    "                        [1.40,1.40], [1.60, 1.40], [1.60,1.20], [1.40,1.20], [1.50,1.30]]\n",
    "matrix_distances_2 = np.zeros((10, 10))\n",
    "#Sorting distance and only get index \n",
    "lbl_Fractal_2 = np.zeros((10, 10)).astype(int)\n",
    "#Get Distances between images\n",
    "matrix_distances_2 = Matrix_of_distances(cls_shape_2,dataset_shape_2)\n",
    "#label of Matrix sorting by index\n",
    "lbl_2 = Matrix_sort_by_index(matrix_distances_2,cls_shape_2)\n",
    "#Precision and Recall\n",
    "matrix_precision_2,matrix_recall_2 = Compute_distance(cantidad,lbl_2,cls_shape_2)\n",
    "\n",
    "#Plot_Precision_x_Recall_Descriptor_1(matrix_precision_2,matrix_recall_2)\n",
    "\n",
    "#####################################################################\n",
    "#####################################################################\n",
    "#####################################################################\n",
    "#####################################################################\n",
    "cls_shape_3 = [0,0,0,0,0,1,1,1,1,1]\n",
    "dataset_shape_3 = [[1.50,2.50], [1.50, 2.00], [1.75,2.25], [1.25,2.00], [1.50,1.50],\n",
    "                        [1.50,5.50], [1.25, 5.00], [1.50,5.00], [1.15,5.00], [1.50,4.50]]\n",
    "matrix_distances_3 = np.zeros((10, 10))\n",
    "#Sorting distance and only get index \n",
    "lbl_Fractal_3 = np.zeros((10, 10)).astype(int)\n",
    "#Get Distances between images\n",
    "matrix_distances_3 = Matrix_of_distances(cls_shape_3,dataset_shape_3)\n",
    "#label of Matrix sorting by index\n",
    "lbl_3 = Matrix_sort_by_index(matrix_distances_3,cls_shape_3)\n",
    "#Precision and Recall\n",
    "matrix_precision_3,matrix_recall_3 = Compute_distance(cantidad,lbl_3,cls_shape_3)\n",
    "\n",
    "#Plot_Precision_x_Recall_Descriptor_1(matrix_precision_3,matrix_recall_3)\n",
    "\n",
    "\n",
    "#####################################################################\n",
    "#####################################################################\n",
    "#####################################################################\n",
    "#####################################################################\n",
    "Plot_Precision_x_Recall(matrix_precision_Fractal,matrix_recall_Fractal,matrix_precision_2,matrix_recall_2,matrix_precision_3,matrix_recall_3)"
   ]
  },
  {
   "cell_type": "code",
   "execution_count": 10,
   "metadata": {},
   "outputs": [],
   "source": [
    "#Visualization\n",
    "def Plot_Precision_x_Recall_Descriptor_1(matrix_precision_1,matrix_recall_1):\n",
    "    plt.plot(matrix_recall_1,matrix_precision_1, label='Descriptor 1 ' )\n",
    "    plt.axis([0, 1.02, 0, 1.02])\n",
    "    plt.legend()\n",
    "    plt.show()"
   ]
  },
  {
   "cell_type": "code",
   "execution_count": 11,
   "metadata": {},
   "outputs": [
    {
     "data": {
      "image/png": "[encoded data removed]",
      "text/plain": [
       "<Figure size 432x288 with 1 Axes>"
      ]
     },
     "metadata": {
      "needs_background": "light"
     },
     "output_type": "display_data"
    }
   ],
   "source": [
    "Plot_Precision_x_Recall_Descriptor_1(matrix_precision_3,matrix_recall_3)\n"
   ]
  }
 ],
 "metadata": {
  "kernelspec": {
   "display_name": "Python 3",
   "language": "python",
   "name": "python3"
  },
  "language_info": {
   "codemirror_mode": {
    "name": "ipython",
    "version": 3
   },
   "file_extension": ".py",
   "mimetype": "text/x-python",
   "name": "python",
   "nbconvert_exporter": "python",
   "pygments_lexer": "ipython3",
   "version": "3.6.7"
  }
 },
 "nbformat": 4,
 "nbformat_minor": 2
}
