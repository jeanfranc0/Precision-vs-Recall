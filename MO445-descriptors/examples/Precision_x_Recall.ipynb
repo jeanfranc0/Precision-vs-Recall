{
 "cells": [
  {
   "cell_type": "code",
   "execution_count": 1,
   "metadata": {},
   "outputs": [],
   "source": [
    "#Libraries\n",
    "import os\n",
    "import numpy as np\n",
    "from scipy.spatial import distance\n",
    "import matplotlib.pyplot as plt"
   ]
  },
  {
   "cell_type": "code",
   "execution_count": 2,
   "metadata": {},
   "outputs": [],
   "source": [
    "#Class\n",
    "cls_label = ['apple','bat','beetle','bell','bird','bone','bottle','brick','butterfly','camel','car','carriage',\n",
    "'cattle','cellular_phone','chicken','children','chopper','classic','Comma','crown','cup','deer','device0',\n",
    "'device1','device2','device3','device4','device5','device6','device7','device8','device9','dog', 'elephant',\n",
    "'face','fish','flatfish','fly','fork','fountain','frog','glas','guitar','hammer','hat','hcircle','heart',\n",
    "'horse','horseshoe','jar','key','lizzard','lmfish','misk','octopus','pencil','personal_car','pocket','rat',\n",
    "'ray','sea_snake','shoe','spoon','spring','stef','teddy','tree','truck','turtle','watch' ]\n",
    "\n",
    "#Rank\n",
    "cantidad = 1400"
   ]
  },
  {
   "cell_type": "code",
   "execution_count": 3,
   "metadata": {},
   "outputs": [],
   "source": [
    "#Load Data in formart .txt\n",
    "def Load_data(dataset_dir):\n",
    "    image_filenames = [f for f in os.listdir(dataset_dir) if f.endswith(\".txt\")]\n",
    "    image_filenames.sort()\n",
    "    nimages = len(image_filenames)\n",
    "    dataset_shape = []\n",
    "    cls_shape = []\n",
    "    i = 0\n",
    "    current_index = 0\n",
    "    for image_filename in image_filenames:\n",
    "        arr_filename = image_filename.split('-')\n",
    "        for index, item in enumerate(cls_label):\n",
    "            if item == arr_filename[0]:\n",
    "                cls = index        \n",
    "        image_path = dataset_dir + image_filename\n",
    "        with open(image_path, 'r') as file:\n",
    "            data = file.read().replace('\\n', ' ').split()\n",
    "        \n",
    "        results = [float(i) for i in data]\n",
    "        dataset_shape.append(results)\n",
    "        cls_shape.append(cls)\n",
    "        current_index += 1\n",
    "    return dataset_shape, cls_shape"
   ]
  },
  {
   "cell_type": "code",
   "execution_count": 4,
   "metadata": {},
   "outputs": [],
   "source": [
    "#Matrix of distance between images; using euclidean distance\n",
    "def Matrix_of_distances(cls_shape,dataset_shape):\n",
    "    matrix_distances = np.zeros((len(cls_shape), len(cls_shape)))\n",
    "    for i in range(len(matrix_distances)):\n",
    "        for j in range(len(matrix_distances[i])):\n",
    "            matrix_distances[i][j] = distance.euclidean(dataset_shape[i], dataset_shape[j])\n",
    "    return matrix_distances"
   ]
  },
  {
   "cell_type": "code",
   "execution_count": 5,
   "metadata": {},
   "outputs": [],
   "source": [
    "#Sorting distance and only get index\n",
    "def Matrix_sort_by_index(matrix_distances,cls_shape):\n",
    "    x_ordenada = np.sort(matrix_distances)\n",
    "    x = np.argsort(matrix_distances)\n",
    "    lbl = np.zeros((len(cls_shape), len(cls_shape))).astype(int)\n",
    "    for i in range(len(lbl)):\n",
    "        for j in range(len(lbl[i])):\n",
    "            lbl[i][j] = (x[i][j]/20)\n",
    "    return lbl"
   ]
  },
  {
   "cell_type": "code",
   "execution_count": 6,
   "metadata": {},
   "outputs": [],
   "source": [
    "#Retrival the 'i' first images\n",
    "def fncion(value, lista):\n",
    "    ppp= []\n",
    "    contad = 0\n",
    "    rrr = []\n",
    "    c = 1\n",
    "    for s in lista:        \n",
    "        if value == s:\n",
    "            contad+=1\n",
    "        ppp.append(contad/c)\n",
    "        rrr.append(contad/20)\n",
    "        c +=1\n",
    "    return ppp,rrr"
   ]
  },
  {
   "cell_type": "code",
   "execution_count": 7,
   "metadata": {},
   "outputs": [],
   "source": [
    "#get Matrix of Precision and Recall\n",
    "def Compute_distance(cantidad,lbl,cls_shape):\n",
    "    pr = []\n",
    "    precision = []\n",
    "    recall = []\n",
    "    p1 = []\n",
    "    r1 = []\n",
    "    contador = 0\n",
    "    matrix_precision = np.zeros((len(cls_shape), cantidad))\n",
    "    matrix_recall = np.zeros((len(cls_shape), cantidad))\n",
    "    for sublist in lbl:\n",
    "        pr.append(sublist[:cantidad])\n",
    "    lst = np.array(pr).tolist()\n",
    "    for index,valor in enumerate(cls_shape):\n",
    "        p1, r1 = fncion(valor, lst[index])        \n",
    "        for i in range(cantidad):\n",
    "            matrix_precision[index][i] = p1[i]\n",
    "            matrix_recall[index][i] = r1[i]\n",
    "            \n",
    "    media_matrix_precision = [sum([row[i] for row in matrix_precision])/1400 for i in range(0,len(matrix_precision[0]))]\n",
    "    media_matrix_recall = [sum([row[i] for row in matrix_recall])/1400 for i in range(0,len(matrix_recall[0]))]  \n",
    "    \n",
    "    return media_matrix_precision,media_matrix_recall"
   ]
  },
  {
   "cell_type": "code",
   "execution_count": 11,
   "metadata": {},
   "outputs": [],
   "source": [
    "#Visualization\n",
    "def Plot_Precision_x_Recall(matrix_precision_1,matrix_recall_1,matrix_precision_2,matrix_recall_2):\n",
    "    plt.plot(matrix_precision_1,matrix_recall_1, label='Extracting Multiscale Fractal Dimension ')\n",
    "    plt.plot(matrix_precision_2,matrix_recall_2, label='Extracting Segment Saliences ')\n",
    "    plt.axis([0, 1, 0, 1])\n",
    "    plt.legend()\n",
    "    plt.show()"
   ]
  },
  {
   "cell_type": "code",
   "execution_count": 9,
   "metadata": {},
   "outputs": [],
   "source": [
    "##############################################################\n",
    "##############################################################\n",
    "##############################################################\n",
    "##############################################################\n",
    "###########Extracting Multiscale Fractal Dimension ###########\n",
    "##############################################################\n",
    "##############################################################\n",
    "##############################################################\n",
    "##############################################################\n",
    "#Path to .txt of \n",
    "dataset_dir_Fractal = 'mpeg7_Fractal/'\n",
    "#features and class\n",
    "dataset_shape_Fractal = []\n",
    "cls_shape_Fractal = []\n",
    "#load Data\n",
    "dataset_shape_Fractal, cls_shape_Fractal = Load_data(dataset_dir_Fractal)\n",
    "#Matrix of distances\n",
    "matrix_distances_Fractal = np.zeros((len(cls_shape_Fractal), len(cls_shape_Fractal)))\n",
    "#Sorting distance and only get index \n",
    "lbl_Fractal = np.zeros((len(cls_shape_Fractal), len(cls_shape_Fractal))).astype(int)\n",
    "#Get Distances between images\n",
    "matrix_distances_Fractal = Matrix_of_distances(cls_shape_Fractal,dataset_shape_Fractal)\n",
    "#label of Matrix sorting by index\n",
    "lbl_Fractal = Matrix_sort_by_index(matrix_distances_Fractal,cls_shape_Fractal)\n",
    "#Precision and Recall\n",
    "matrix_precision_Fractal,matrix_recall_Fractal = Compute_distance(cantidad,lbl_Fractal,cls_shape_Fractal)"
   ]
  },
  {
   "cell_type": "code",
   "execution_count": 10,
   "metadata": {},
   "outputs": [],
   "source": [
    "##############################################################\n",
    "##############################################################\n",
    "##############################################################\n",
    "##############################################################\n",
    "############## Extracting Segment Saliences ##################\n",
    "##############################################################\n",
    "##############################################################\n",
    "##############################################################\n",
    "##############################################################\n",
    "#Path to .txt of \n",
    "dataset_dir_Saliences = 'mpeg7_Saliences/'\n",
    "#features and class\n",
    "dataset_shape_Saliences = []\n",
    "cls_shape_Saliences = []\n",
    "#load Data\n",
    "dataset_shape_Saliences, cls_shape_Saliences = Load_data(dataset_dir_Saliences)\n",
    "#Matrix of distances\n",
    "matrix_distances_Saliences = np.zeros((len(cls_shape_Saliences), len(cls_shape_Saliences)))\n",
    "#Sorting distance and only get index \n",
    "lbl_Saliences = np.zeros((len(cls_shape_Saliences), len(cls_shape_Saliences))).astype(int)\n",
    "#Get Distances between images\n",
    "matrix_distances_Saliences = Matrix_of_distances(cls_shape_Saliences,dataset_shape_Saliences)\n",
    "#label of Matrix sorting by index\n",
    "lbl_Saliences = Matrix_sort_by_index(matrix_distances_Saliences,cls_shape_Saliences)\n",
    "#Precision and Recall\n",
    "matrix_precision_Saliences,matrix_recall_Saliences = Compute_distance(cantidad,lbl_Saliences,cls_shape_Saliences)"
   ]
  },
  {
   "cell_type": "code",
   "execution_count": 12,
   "metadata": {},
   "outputs": [
    {
     "data": {
      "image/png": "[encoded data removed]",
      "text/plain": [
       "<Figure size 432x288 with 1 Axes>"
      ]
     },
     "metadata": {
      "needs_background": "light"
     },
     "output_type": "display_data"
    }
   ],
   "source": [
    "##############################################################\n",
    "################## Precision_x_Recall ########################\n",
    "##############################################################\n",
    "\n",
    "Plot_Precision_x_Recall(matrix_precision_Fractal,matrix_recall_Fractal,matrix_precision_Saliences,matrix_recall_Saliences)"
   ]
  }
 ],
 "metadata": {
  "kernelspec": {
   "display_name": "Python 3",
   "language": "python",
   "name": "python3"
  },
  "language_info": {
   "codemirror_mode": {
    "name": "ipython",
    "version": 3
   },
   "file_extension": ".py",
   "mimetype": "text/x-python",
   "name": "python",
   "nbconvert_exporter": "python",
   "pygments_lexer": "ipython3",
   "version": "3.6.7"
  }
 },
 "nbformat": 4,
 "nbformat_minor": 2
}
