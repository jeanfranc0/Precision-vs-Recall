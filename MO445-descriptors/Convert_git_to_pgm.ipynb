{
 "cells": [
  {
   "cell_type": "code",
   "execution_count": 1,
   "metadata": {},
   "outputs": [],
   "source": [
    "from PIL import Image\n",
    "import glob, os\n",
    "import numpy as np"
   ]
  },
  {
   "cell_type": "code",
   "execution_count": 2,
   "metadata": {},
   "outputs": [],
   "source": [
    "def writePGM(image, filename):\n",
    "    image = image.astype(np.int)\n",
    "    try:\n",
    "        outFile = open(filename, 'w')\n",
    "        outFile.write(\"P2\\n\")\n",
    "        nrows = image.shape[0]\n",
    "        ncols = image.shape[1]\n",
    "        maxval = np.max(image)\n",
    "        outFile.write(\"%d %d\\n\" % (ncols, nrows))\n",
    "        #print(ncols, nrows)\n",
    "        outFile.write(\"%d\\n\" % 1)\n",
    "        for i in range(image.shape[0]):\n",
    "            #for j in range(image.shape[1]):\n",
    "            #outFile.write(\"%d \" % image[i,j])\n",
    "            #outFile.write(\"\\n\")\n",
    "            #print(row_content_list)\n",
    "            row_content_list = image[i,:].tolist()\n",
    "            row_content_list = [0 if x == 0 else 1 for x in row_content_list]\n",
    "            #print(\"asas\")\n",
    "            #print(row_content_list)\n",
    "            row_content_list = [str(item) for item in  row_content_list]\n",
    "            #print(\"bbb\")\n",
    "            #print(row_content_list)\n",
    "            row_content_str = \" \".join(row_content_list) + \"\\n\"\n",
    "            outFile.write(row_content_str)\n",
    "        outFile.close()\n",
    "    except excep:\n",
    "        print(excep)\n",
    "    return None"
   ]
  },
  {
   "cell_type": "code",
   "execution_count": 3,
   "metadata": {},
   "outputs": [],
   "source": [
    "def convert(path, image,output_path):\n",
    "    img = Image.open(path)\n",
    "    img.load()\n",
    "    data = np.asarray(img)\n",
    "    tp = image.split('.')\n",
    "    writePGM(data,output_path + tp[0]+'.pgm')"
   ]
  },
  {
   "cell_type": "code",
   "execution_count": 5,
   "metadata": {},
   "outputs": [
    {
     "name": "stdout",
     "output_type": "stream",
     "text": [
      "1400\n",
      "Saved!\n"
     ]
    }
   ],
   "source": [
    "dataset_path = 'mpeg7/'\n",
    "output_path = 'mpeg7_output_git_to_pgm/'\n",
    "\n",
    "image_filenames = [f for f in os.listdir(dataset_path) if f.endswith(\".gif\")]\n",
    "image_filenames.sort()\n",
    "nimages = len(image_filenames)\n",
    "print(nimages)\n",
    "\n",
    "for image_filename in image_filenames:\n",
    "    image_path = dataset_path + image_filename\n",
    "    convert(image_path, image_filename, output_path)\n",
    "print (\"Saved!\")    "
   ]
  },
  {
   "cell_type": "code",
   "execution_count": null,
   "metadata": {},
   "outputs": [],
   "source": []
  }
 ],
 "metadata": {
  "kernelspec": {
   "display_name": "Python 3",
   "language": "python",
   "name": "python3"
  },
  "language_info": {
   "codemirror_mode": {
    "name": "ipython",
    "version": 3
   },
   "file_extension": ".py",
   "mimetype": "text/x-python",
   "name": "python",
   "nbconvert_exporter": "python",
   "pygments_lexer": "ipython3",
   "version": "3.6.7"
  }
 },
 "nbformat": 4,
 "nbformat_minor": 2
}
